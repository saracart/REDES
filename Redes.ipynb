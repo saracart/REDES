{
 "cells": [
  {
   "cell_type": "markdown",
   "metadata": {},
   "source": [
    "# REDES TRANSCRIPCIONALES"
   ]
  },
  {
   "cell_type": "markdown",
   "metadata": {},
   "source": [
    "# ÍNDICE\n",
    "\n",
    "1. [INTRODUCCIÓN](#introduccion)\n",
    "\n",
    "2. [OBJETIVOS](#objetivos)\n",
    "\n",
    "3. [ANÁLISIS DE Chip-Seq](#chip)\n",
    "    \n",
    "4. [CONSTRUCCIÓN DE LA RED](#red)\n",
    "\n",
    "5. [CONCLUSIONES](#conclusiones)\n",
    "\n",
    "6. [REFERENCIAS](#referencias)"
   ]
  },
  {
   "cell_type": "markdown",
   "metadata": {},
   "source": [
    "<a id=\"introduccion\"></a>"
   ]
  },
  {
   "cell_type": "markdown",
   "metadata": {},
   "source": [
    "## 1. INTRODUCCIÓN "
   ]
  },
  {
   "cell_type": "markdown",
   "metadata": {},
   "source": [
    "Las redes de coexpresión génica incluyen un conjunto de genes que se expresan orquestados conjuntamente. No obstante, el hecho de que estos genes estén coexpresados no implica que estén corregulados.\n",
    "Para realizar el estudio de __redes de corregulacón génica__ se utilizan los datos obtenidos de análisis de ChIP-Seq.\n",
    "\n",
    "De este modo, a partir del análisis para diversos factores de transcripción se obtienen sendas listas de genes dianas para cada uno de los factores de transcripción analizados. A partir de estos genes diana, se puede construir la red de corregulación.\n",
    "Cabe mencionar que a diferencia de las redes de coexpresión, las redes de corregulación son __redes dirigidas__. En este caso, se tiene un factor de transcripción que se une al promotor de un gen y hace que se exprese. Si, además, el gen es codificante de una enzima que participa en una ruta metabólica, se estaría trabajando a su vez con una red metabólica y sería interesante integrar ambas redes."
   ]
  },
  {
   "cell_type": "markdown",
   "metadata": {},
   "source": [
    "<a id=\"objetivos\"></a>"
   ]
  },
  {
   "cell_type": "markdown",
   "metadata": {},
   "source": [
    "## 2. OBJETIVOS"
   ]
  },
  {
   "cell_type": "markdown",
   "metadata": {},
   "source": [
    "El objetivo de esta tarea es la obtención de un red cotranscripcional para los genes dianas obtenidos tras la realización de análisis de ChIP-Seq para 10 factores de transcripción de _Arabidopsis thaliana._"
   ]
  },
  {
   "cell_type": "markdown",
   "metadata": {},
   "source": [
    "<a id=\"chip\"></a>"
   ]
  },
  {
   "cell_type": "markdown",
   "metadata": {},
   "source": [
    "## 3. ANÁLISIS DE ChIP-Seq"
   ]
  },
  {
   "cell_type": "markdown",
   "metadata": {},
   "source": [
    "Para poder crear la red de transcripción, se realiza un análisis de ChIP-Seq de 10 factores de transcripción. Los diferentes factores y los genes diana de cada uno de ellos, se enumeran a continuación."
   ]
  },
  {
   "cell_type": "markdown",
   "metadata": {},
   "source": [
    "- __LHY__\n",
    "Es un factor de transcripción relacionado con el ritmo circadiano. La lista de genes diana de este factor es la siguiente: [Genes diana LHY](LHY.txt)"
   ]
  },
  {
   "cell_type": "markdown",
   "metadata": {},
   "source": [
    "- __APRR9__\n",
    "Es un factor de transcripción relacionado con el ritmo circadiano. La lista de genes diana de este factor es la siguiente: [Genes diana APRR9](APRR9.txt)"
   ]
  },
  {
   "cell_type": "markdown",
   "metadata": {},
   "source": [
    "- __ATMYB3R3 (DOMINIO PROTEICO MYB)__\n",
    "Es un factor de transcripción relacionado con la división celular. La lista de genes diana de este factor es la siguiente: [Genes diana ATMYB3R3](ATMYB.txt)"
   ]
  },
  {
   "cell_type": "markdown",
   "metadata": {},
   "source": [
    "- __PROTEÍNA NUCLEAR 1 ASOCIADA A EIN2 (ENAP1)__\n",
    "Es un factor de transcripción relacionado con la transcripción de proteínas de virulencia. La lista de genes diana de este factor es la siguiente: [Genes diana ENAP1](ENAP1.txt)"
   ]
  },
  {
   "cell_type": "markdown",
   "metadata": {},
   "source": [
    "- __HISTONA ACETILTRANSFERASA (HAF2)__\n",
    "Relacionado con la integración de la luz. La lista de genes dianas de este factor es la siguiente: [Genes diana HAF2](HAF2.txt)"
   ]
  },
  {
   "cell_type": "markdown",
   "metadata": {},
   "source": [
    "- __PROTEÍNA 3 CON DOMINIO DEK (DEK3)__\n",
    "Este factor de transcripción codifica para proteína de modulación de la cromatina. Los genes diana de este factor son los siguientes: [Genes diana DEK3](DEK3.txt)"
   ]
  },
  {
   "cell_type": "markdown",
   "metadata": {},
   "source": [
    "- __AP2__\n",
    "Este factor de transcripción está relacionado con la floraicón. La lista de genes diana es la siguiente: [Genes diana AP2](AP2.txt)"
   ]
  },
  {
   "cell_type": "markdown",
   "metadata": {},
   "source": [
    "- __PRR5__\n",
    "Este factor de transcripción está relacionado con el reloj circadiano. La lista de genes diana es la siguiente: [Genes diana PRR5](PRR5.txt)"
   ]
  },
  {
   "cell_type": "markdown",
   "metadata": {},
   "source": [
    "- __AGL8__\n",
    "Este factor de transcripción está relacionado con el desarrollo de la planta. La lista de genes diana es la siguiente: [Genes diana AGL8](AGL8.txt)"
   ]
  },
  {
   "cell_type": "markdown",
   "metadata": {},
   "source": [
    "- __LFY__\n",
    "Este factor de transcripción está relacionado con el desarrollo de la planta. La lista de genes diana es la siguiente: [Genes diana FLY](FLY.txt)"
   ]
  },
  {
   "cell_type": "markdown",
   "metadata": {},
   "source": [
    "### 3.1. ANÁLISIS DE PICOS"
   ]
  },
  {
   "cell_type": "markdown",
   "metadata": {},
   "source": [
    "Para cada factor transcripcional se estudian los genes que se ven afectados. \n",
    "\n",
    "En primer lugar se asignan genes a los picos que se encontraron en el análisis anterior, reallizando una **anotación de picos**. Se anotan en función a la cercanía de picos aguas arriba y abajo del gen, habiendo definido de forma previa la región que se coniderará como promotor. Al realizar la anotación obtendremos un fichero con todos los genes diana de los diferentes factores transcipcionales, que se usará para la construcción de la red. \n",
    "\n",
    "A continuación se adjunta una carpeta comprimida con los scripts de R empleados para realizar el análisis de picos:\n",
    "\n",
    "##FALTA\n"
   ]
  },
  {
   "cell_type": "markdown",
   "metadata": {},
   "source": [
    "<a id=\"red\"></a>"
   ]
  },
  {
   "cell_type": "markdown",
   "metadata": {},
   "source": [
    "## 4. CONSTRUCCIÓN DE LA RED"
   ]
  },
  {
   "cell_type": "markdown",
   "metadata": {},
   "source": [
    "A partir de los factores de transcripción descritos en el apartado anterior, y con las 10 listas de genes activados, se procede a construir la red de corregulación génica. Para la construcción de la red necesitamos un fichero de entrada que recoge los identificadores de los 10 factores de transcripción. \n"
   ]
  },
  {
   "cell_type": "code",
   "execution_count": 1,
   "metadata": {},
   "outputs": [
    {
     "data": {
      "text/html": [
       "10"
      ],
      "text/latex": [
       "10"
      ],
      "text/markdown": [
       "10"
      ],
      "text/plain": [
       "[1] 10"
      ]
     },
     "metadata": {},
     "output_type": "display_data"
    }
   ],
   "source": [
    "tf.name <- read.table(file = \"target.txt\", header = FALSE)[[1]]\n",
    "length(tf.name)"
   ]
  },
  {
   "cell_type": "markdown",
   "metadata": {},
   "source": [
    "<a id=\"conclusiones\"></a>"
   ]
  },
  {
   "cell_type": "markdown",
   "metadata": {},
   "source": [
    "Tras leer todos los ficheros se almacenan las dianas potenciales de los factores de transcripción en un vector. Es posible que tras haber analizado las dianas de los factores de transcripción encontremos genes repetidos, por lo que será necesario usar la función **unique** para eliminar estas repeticiones.\n"
   ]
  },
  {
   "cell_type": "code",
   "execution_count": 2,
   "metadata": {},
   "outputs": [
    {
     "data": {
      "text/html": [
       "19871"
      ],
      "text/latex": [
       "19871"
      ],
      "text/markdown": [
       "19871"
      ],
      "text/plain": [
       "[1] 19871"
      ]
     },
     "metadata": {},
     "output_type": "display_data"
    }
   ],
   "source": [
    "genes.in.network <- c()\n",
    "for(i in 1:length(tf.name))\n",
    "{\n",
    "  current.tf.file <- paste(tf.name[i],\".txt\",sep=\"\")\n",
    "  current.tf.data <- read.table(file=current.tf.file,as.is=TRUE)\n",
    "  current.tf.targets <- current.tf.data[,1]\n",
    "  genes.in.network <- c(genes.in.network,current.tf.targets)\n",
    "}\n",
    "\n",
    "genes.in.network <- unique(genes.in.network)\n",
    "length(genes.in.network)"
   ]
  },
  {
   "cell_type": "markdown",
   "metadata": {},
   "source": [
    "A continuación se genera una matriz de adyacencia cuyos valores iniciales serán 0. Esta matriz se irá rellenando con 1 en el caso de que el gen sea diana de los factores transcripcionales. "
   ]
  },
  {
   "cell_type": "code",
   "execution_count": 3,
   "metadata": {},
   "outputs": [
    {
     "ename": "ERROR",
     "evalue": "Error: no se puede ubicar un vector de tamaño  2.9 Gb\n",
     "output_type": "error",
     "traceback": [
      "Error: no se puede ubicar un vector de tamaño  2.9 Gb\nTraceback:\n",
      "1. matrix(data = 0, nrow = length(genes.in.network), ncol = length(genes.in.network))"
     ]
    }
   ],
   "source": [
    "ad.matrix<- matrix(data=0, \n",
    "                   nrow = length(genes.in.network), \n",
    "                   ncol = length(genes.in.network))\n",
    "\n",
    "rownames(ad.matrix)<- genes.in.network\n",
    "colnames(ad.matrix) <- genes.in.network\n",
    "\n",
    "ad.matrix[1:4,1:4]\n",
    "\n",
    "for(i in 1:length(tf.name))\n",
    "{\n",
    "  current.tf <- tf.name[i]\n",
    "  current.tf.file <- paste(current.tf, \".txt\",sep=\"\")\n",
    "  current.tf.data <- read.table(file=current.tf.file,as.is=TRUE)\n",
    "  current.tf.targets <- current.tf.data[,1]\n",
    "  ad.matrix[current.tf,current.tf.targets] <- 1\n",
    "}"
   ]
  },
  {
   "cell_type": "markdown",
   "metadata": {},
   "source": [
    "A partir de la matriz de adyacencia generada se puede generar una red transcripcional en formato .gml; sin embargo, la red generada sería demasiado grande por lo que solo se trabajará con la red que contiene los factores de transcripción y las aristas que se generan entre ellos. Para ello será necesario descargar el paquete **igraph** de bioconductor. Posteriormente, la red transcripcional se puede visualizar en cytoscape. "
   ]
  },
  {
   "cell_type": "code",
   "execution_count": 1,
   "metadata": {},
   "outputs": [
    {
     "name": "stderr",
     "output_type": "stream",
     "text": [
      "\n",
      "Attaching package: ‘igraph’\n",
      "\n",
      "\n",
      "The following objects are masked from ‘package:stats’:\n",
      "\n",
      "    decompose, spectrum\n",
      "\n",
      "\n",
      "The following object is masked from ‘package:base’:\n",
      "\n",
      "    union\n",
      "\n",
      "\n"
     ]
    }
   ],
   "source": [
    "library(igraph)"
   ]
  },
  {
   "cell_type": "code",
   "execution_count": 9,
   "metadata": {},
   "outputs": [
    {
     "ename": "ERROR",
     "evalue": "Error: no se puede ubicar un vector de tamaño  2.9 Gb\n",
     "output_type": "error",
     "traceback": [
      "Error: no se puede ubicar un vector de tamaño  2.9 Gb\nTraceback:\n",
      "1. graph.adjacency(ad.matrix, mode = \"directed\")",
      "2. graph.adjacency.dense(adjmatrix, mode = mode, weighted = weighted, \n .     diag = diag)"
     ]
    }
   ],
   "source": [
    "gene.transcriptional.network <- graph.adjacency(ad.matrix, mode=\"directed\")\n",
    "write.graph(gene.transcriptional.network,file=\"transcriptional_gene_network.gml\",format=\"gml\")\n",
    "\n",
    "gene.transcriptional.network\n"
   ]
  },
  {
   "cell_type": "code",
   "execution_count": 8,
   "metadata": {},
   "outputs": [
    {
     "ename": "ERROR",
     "evalue": "Error in \"igraph\" %in% class(graph): objeto 'gene.transcriptional.network' no encontrado\n",
     "output_type": "error",
     "traceback": [
      "Error in \"igraph\" %in% class(graph): objeto 'gene.transcriptional.network' no encontrado\nTraceback:\n",
      "1. induced.subgraph(gene.transcriptional.network, tfs)",
      "2. is_igraph(graph)",
      "3. \"igraph\" %in% class(graph)"
     ]
    }
   ],
   "source": [
    "tfs.network <- induced.subgraph(gene.transcriptional.network,tfs)\n",
    "plot.igraph(x = tfs.network,vertex.size=8,edge.arrow.size=0.5,vertex.label=\"\",vertex.color=\"blue\")\n",
    "write.graph(tfs.network,file=\"red_transcripcional_tf.gml\",format=\"gml\")\n",
    "\n",
    "tfs.network<- read.graph(file = \"red_transcripcional_tf.gml\", format = \"gml\" )"
   ]
  },
  {
   "cell_type": "markdown",
   "metadata": {},
   "source": [
    "El fichero generado con los nodos y aristas de la red es el siguiente: [red_transcripcional](red_transcripcional_inducida_tf.gml) \n",
    "\n",
    "Al cargar esta red en Cytoscape haciendo uso de la plantilla organic, obtenemos la siguiente red transcripcional: \n",
    "\n",
    "<img src=\"red_transcripcional_inducida_tf.png\" alt=\"Drawing\" style=\"width: 1500px;\"/>"
   ]
  },
  {
   "cell_type": "markdown",
   "metadata": {},
   "source": [
    "El análisis de la red que se realizará consiste en la búsqueda de motivos de red o patrones no aleatorios. Un motivo de red es un subgrafo que aparece un número significativo de veces, siendo mayor este número al que aparece en una red generada de forma aleatoria y que presenta las mismas propiedades.\n",
    "\n",
    "En primer lugar se determinará si esta red es o no libre de escala. En una red libre de escala algunos nodos están altamente conectados, aunque el grado de conexión de casi todos los nodos es bastante bajo. Se considera una red libre de escala cuando su distribución del grado de los nodos se ajusta a una potencial negativa. Para determinar si la red es o no libre de escala se usará el test de **Kolmogorov-Smirnov**, en este se formula un contraste de hipótesis donde la hipótesis nula afirma que la distribución del grado de los nodos se ajusta a una potencial negativa y la hipótesis afirmativa afirma lo contrario. De acuerdo al contraste de hipótesis planteado para considerar que la red es libre de escala debemos obtener un p-valor cercano a 1. "
   ]
  },
  {
   "cell_type": "code",
   "execution_count": null,
   "metadata": {},
   "outputs": [],
   "source": [
    "# Calculo del grado de los nodos\n",
    "\n",
    "network.degrees <- degree(tfs.network)\n",
    "hist(network.degrees,col=\"blue\",xlab=\"Node degree\", ylab=\"Probability\",main=\"Degree distribution\")\n",
    "\n",
    "# Calculo de la frecuencia absoluta del grado de los nodos\n",
    "degree.frequencies <- table(network.degrees)\n",
    "# Eliminamos nodos con grado 0 para poder aplicar log10\n",
    "\n",
    "# Transformación logar?tmica\n",
    "log10.degrees.frequencies <- log10(degree.frequencies)\n",
    "log10.node.degrees <- log10(as.numeric(names(degree.frequencies)))\n",
    "\n",
    "# Regresión lineal\n",
    "lm.r <- lm(log10.degrees.frequencies ~ log10.node.degrees)\n",
    "summary(lm.r)"
   ]
  },
  {
   "cell_type": "markdown",
   "metadata": {},
   "source": [
    "Dado que el p-valor obtenido es de 0.9898 podemos afirmar que la red no es libre de escala. La distribución del grado de los nodos obtenidas es la siguiente: \n",
    "<img src=\"histograma.png\" alt=\"Drawing\" style=\"width: 500px;\"/>"
   ]
  },
  {
   "cell_type": "markdown",
   "metadata": {},
   "source": [
    "Para generar las redes aleatorias emplearemos el modelo de Erdos-Renyi, que genera redes aleatorias que siguen una distribución de Poisson con un númeri de nodos y aristas dados. "
   ]
  },
  {
   "cell_type": "code",
   "execution_count": 4,
   "metadata": {},
   "outputs": [
    {
     "ename": "ERROR",
     "evalue": "Error in erdos.renyi.game(n = 10, p.or.m = 22, type = \"gnm\", directed = TRUE, : no se pudo encontrar la función \"erdos.renyi.game\"\n",
     "output_type": "error",
     "traceback": [
      "Error in erdos.renyi.game(n = 10, p.or.m = 22, type = \"gnm\", directed = TRUE, : no se pudo encontrar la función \"erdos.renyi.game\"\nTraceback:\n"
     ]
    }
   ],
   "source": [
    "random.graph <- erdos.renyi.game(n=10, p.or.m=22, type=\"gnm\", directed=TRUE, loops=TRUE)\n",
    "plot.igraph(x = random.graph,vertex.size=8,edge.arrow.size=0.5,vertex.label=\"\",vertex.color=\"blue\")"
   ]
  },
  {
   "cell_type": "markdown",
   "metadata": {},
   "source": [
    "En primer lugar se estudiará si la autorregulación es un motivo de red. Para comprobar el número de genes que se autorregulan en una red basta con sumar los elementos de la diagonal principal. Este número se debe comparar con el número de genes autorregulados en la red creada de forma aleatoria. Para comprobar si la autorregulación es un motivo de red se generan 1000 redes de forma aleatoria y se calcula el número de autorregulaciones en cada una almacenándola en un vector. "
   ]
  },
  {
   "cell_type": "code",
   "execution_count": null,
   "metadata": {},
   "outputs": [],
   "source": [
    "## N?mero de genes autorregulados en la red de factores de transcripci?n. \n",
    "tfs.adjacency <- as.matrix(get.adjacency(tfs.network))\n",
    "tfs.adjacency\n",
    "diag(tfs.adjacency)\n",
    "autorregulation.in.tfs <- sum(diag(tfs.adjacency))\n",
    "autorregulation.in.tfs\n",
    "\n",
    "## N?mero de genes autorregulados en la red \n",
    "autorregulation.in.random <- sum(diag(as.matrix(get.adjacency(random.graph))))\n",
    "autorregulation.in.random \n",
    "\n",
    "## Generación de 1000 redes aleatorias\n",
    "\n",
    "autorregulation.random.graphs <- vector(length=10000, mode=\"numeric\")\n",
    "\n",
    "for (i in 1:10000)\n",
    "{\n",
    "  random.graph <- erdos.renyi.game(n=10, p.or.m=22, type=\"gnm\", directed=TRUE, loops=TRUE)\n",
    "  autorregulation.random.graphs[i] <- sum(diag(as.matrix(get.adjacency(random.graph))))\n",
    "}\n",
    "\n",
    "mean(autorregulation.random.graphs)\n",
    "sd(autorregulation.random.graphs)\n",
    "\n",
    "sum(autorregulation.random.graphs > autorregulation.in.tfs)/10000 ##El p.valor es de 10^-4 que es el numero de veces que he generado\n"
   ]
  },
  {
   "cell_type": "markdown",
   "metadata": {},
   "source": [
    "Se han generado 1000 redes de forma aleatoria, por lo que para considerar que la autorregulación es un motivo de red el p-valor obtenido debería ser menor a 10^-4. El p-valor obtenido es de 0.1531 por lo que la autorregulación no se consideraría un motivo de red. "
   ]
  },
  {
   "cell_type": "markdown",
   "metadata": {},
   "source": [
    "A continuación, se determinarán los motivos de red de tres nodos mediante la función **graph.motifs**, que recibe como entrada una red y un tamaño de subgrado determinado (actualmente solo puede recibir tamaños de 3 o 4) y devuelve el número de veces que encontramos cada subgrafo en la red. \n",
    "\n",
    "Mediante la función **graph.isocreate** podemos generar todos los posibles grafos del tamaño dado. Es importante tener en cuenta que la enumeración empieza en 0. \n",
    "\n"
   ]
  },
  {
   "cell_type": "code",
   "execution_count": null,
   "metadata": {},
   "outputs": [],
   "source": [
    "occurrency.subgraph.three.nodes <- graph.motifs(tfs.network, size=3)\n",
    "occurrency.subgraph.three.nodes ## Determina cuantos tipos de subgrafos hay; NA es que no aparece ninguna vez\n",
    "length(occurrency.subgraph.three.nodes)\n",
    "\n",
    "##Los grafos de 3 nodos que encontramos son los siguientes:\n",
    "\n",
    "plot.igraph(graph.isocreate(size=3, number=0))\n",
    "plot.igraph(graph.isocreate(size=3, number=1))\n",
    "plot.igraph(graph.isocreate(size=3, number=2))\n",
    "plot.igraph(graph.isocreate(size=3, number=3))\n",
    "plot.igraph(graph.isocreate(size=3, number=4))\n",
    "plot.igraph(graph.isocreate(size=3, number=5))\n",
    "plot.igraph(graph.isocreate(size=3, number=6))\n",
    "plot.igraph(graph.isocreate(size=3, number=7))\n",
    "plot.igraph(graph.isocreate(size=3, number=8))\n",
    "plot.igraph(graph.isocreate(size=3, number=9))\n",
    "plot.igraph(graph.isocreate(size=3, number=10))\n",
    "plot.igraph(graph.isocreate(size=3, number=11))\n",
    "plot.igraph(graph.isocreate(size=3, number=12))\n",
    "plot.igraph(graph.isocreate(size=3, number=13))"
   ]
  },
  {
   "cell_type": "markdown",
   "metadata": {},
   "source": [
    "Se observa la presencia de siete posibles motivos en los subgrafos 5, 7, 8, 9, 10, 13 y 14, por lo que estos serán los que se analizarán para poder determinar los motivos de red. Para ello se seguirá el mismo procedimiento que para la autorregulación, basado en la generación de redes aleatorias. En este caso tendremos un acumulador matricial cuyas filas se corresponderán con el número de subgrafos. "
   ]
  },
  {
   "cell_type": "code",
   "execution_count": null,
   "metadata": {},
   "outputs": [],
   "source": [
    "motifs.3.random.graph <- matrix(0,nrow=1000, ncol=16)\n",
    "motifs.3.random.graph[1:3,]\n",
    "\n",
    "for (i in 1:1000)\n",
    "{\n",
    "  random.graph <- erdos.renyi.game(n=10, p.or.m=22, type=\"gnm\", directed=TRUE, loops=TRUE)\n",
    "  motifs.3.random.graph[i,] <- graph.motifs(random.graph, size=3)\n",
    "}\n",
    "\n",
    "motifs.3.random.graph[1:3,]"
   ]
  },
  {
   "cell_type": "markdown",
   "metadata": {},
   "source": [
    "A continuación, se comparará el número de motivos obtenidos para los diferentes subgrafos con el número de motivos encontrados en la red generada. "
   ]
  },
  {
   "cell_type": "code",
   "execution_count": null,
   "metadata": {},
   "outputs": [],
   "source": [
    "## subgrafo 5\n",
    "plot(graph.isocreate(size=3, number=4))\n",
    "occurrency.subgraph.three.nodes[5]\n",
    "\n",
    "mean(motifs.3.random.graph[,5]) ##13.345\n",
    "sd(motifs.3.random.graph[,5]) ##4.591847\n",
    "sum(motifs.3.random.graph[,5] >1)/1000 ##0.997\n",
    "\n",
    "## subgrafo 7\n",
    "plot(graph.isocreate(size=3, number=6))\n",
    "occurrency.subgraph.three.nodes[7]\n",
    "\n",
    "mean(motifs.3.random.graph[,7]) ##6.694\n",
    "sd(motifs.3.random.graph[,7]) ##3.001228\n",
    "sum(motifs.3.random.graph[,7] > 42)/1000 ##0\n",
    "\n",
    "## Subgrafo 8 \n",
    "plot(graph.isocreate(size=3, number=7))\n",
    "occurrency.subgraph.three.nodes[8]\n",
    "\n",
    "mean(motifs.3.random.graph[,8]) ##3.48\n",
    "sd(motifs.3.random.graph[,8]) ##2.183201\n",
    "sum(motifs.3.random.graph[,8] > 8)/1000 ##0.02\n",
    "\n",
    "## Subgrafo 9\n",
    "plot(graph.isocreate(size=3, number=8))\n",
    "occurrency.subgraph.three.nodes[9]\n",
    "\n",
    "mean(motifs.3.random.graph[,9]) ##0.438\n",
    "sd(motifs.3.random.graph[,9]) ##0.6622647\n",
    "sum(motifs.3.random.graph[,9] > 1)/1000 ##0.073\n",
    "\n",
    "## Subgrafo 10\n",
    "plot(graph.isocreate(size=3, number=9))\n",
    "occurrency.subgraph.three.nodes[10]\n",
    "\n",
    "mean(motifs.3.random.graph[,10]) ##3.447\n",
    "sd(motifs.3.random.graph[,10]) ##2.241029\n",
    "sum(motifs.3.random.graph[,10] > 14)/1000 ##0\n",
    "\n",
    "## Subgrafo 13 \n",
    "plot(graph.isocreate(size=3, number=12))\n",
    "occurrency.subgraph.three.nodes[13]\n",
    "\n",
    "mean(motifs.3.random.graph[,13]) ##0.858\n",
    "sd(motifs.3.random.graph[,13]) ##0.9341888\n",
    "sum(motifs.3.random.graph[,13] > 1)/1000 ##0.222\n",
    "\n",
    "## Subgrafo 14\n",
    "plot(graph.isocreate(size=3, number=13))\n",
    "occurrency.subgraph.three.nodes[14]\n",
    "\n",
    "mean(motifs.3.random.graph[,14]) ##0.416\n",
    "sd(motifs.3.random.graph[,14]) ##0.6475827\n",
    "sum(motifs.3.random.graph[,14] > 1)/1000 ##0.068\n",
    "\n",
    "## Los subgrafos que son motivos con interés biológico son el 7 y el 10\n",
    "\n",
    "subgrafo.7 <- graph.isocreate(size=3, number=6)\n",
    "subgrafo.10<- graph.isocreate(size=3, number=9)\n",
    "\n",
    "plot(subgrafo.7)\n",
    "plot(subgrafo.10)"
   ]
  },
  {
   "cell_type": "markdown",
   "metadata": {},
   "source": [
    "Para considerar que el subgrafo es un motivo de red biológico el p-valor obtenido debe ser menor a 10^-3 ya que se han generado 100 redes aleatorias. Se obtiene que los subgrafos que presentan interés biológico son el 7 y el 10. \n",
    "\n",
    "La representación gráfica para el motivo 7 es la siguiente:\n",
    "\n",
    "<img src=\"subgrafo_7.png\" alt=\"Drawing\" style=\"width: 500px;\"/>\n",
    "\n",
    "De la misma forma, la representación gráfica para el motivo 10 es la siguiente:\n",
    "\n",
    "<img src=\"subgrafo_10.png\" alt=\"Drawing\" style=\"width: 500px;\"/>"
   ]
  },
  {
   "cell_type": "markdown",
   "metadata": {},
   "source": [
    "## 5.  CONCLUSIONES"
   ]
  },
  {
   "cell_type": "markdown",
   "metadata": {},
   "source": [
    "<a id=\"referencias\"></a>"
   ]
  },
  {
   "cell_type": "markdown",
   "metadata": {},
   "source": [
    "El principal objetivo de este ensayo es determinar si los factores transcripcionales de *A.tahliana* están relacionados entre sí a pesar de que, en principio, no todos cumplen la misma función. Tal y como observamos en la red generada en Cytoscape se observa que todos los nodos están conectados entre sí, aunque los que presentan una mayor relación son aquellos que cumplen una función similar. \n",
    "\n",
    "A partir del ensayo realizado también podemos determinar que esta red no es libre de escala, lo que significa que no hay un nodo que cumpla la función de Hub. Un hub es un nodo concentrador que tiene un gran número de vecinos y tienen un papel central en la red. El hecho de que la red no sea libre de escala implica que es sensible a ataques aleatorios ya que la eliminación aleatoria de un nodo en la red afectará a un gran número de nodos; sin embargo, la red será robusta a ataques dirigidos. \n",
    "\n",
    "Finalmente, se han determinado los motivos de red con interés biológico. En el caso del motivo de red número siete el nodo representado con el número 3 se encuentra regulando tanto al 1 como al 2; este último también se encuentra regulando al motivo número 1, por lo que este gen tiene una doble regulación. Este motivo se corresponde con un bucle de anteroalimentación (feedforward loops). En el caso del motivo 10 el nodo número 1 se encuentra en un bucle de retroalimentación tanto con el nodo 2 como con el 3. Sería conveniente realizar ensayos adicionales para determinar de qué tipo de bucle de retroalimentación y de anteroalimentación se tratan. "
   ]
  },
  {
   "cell_type": "markdown",
   "metadata": {},
   "source": [
    "## 6. REFERENCIAS"
   ]
  },
  {
   "cell_type": "markdown",
   "metadata": {},
   "source": [
    "### Ártículos de los factores de transcripción\n",
    "\n",
    "\n",
    "### Datos descargados de la subase de datos de NCBI, GEO\n",
    "Los datos analizados en este trabajo fueron depositados en la base de datos de NCBI, Gen Expression Omnibus (McEwan, Deborah L et al., 2016) y se puede acceder a ellos a través de los respectivos números de acceso: GSE79554 o en el siguiente enlace\n",
    "https://www.ncbi.nlm.nih.gov/geo/query/acc.cgi?acc=GSE79554\n",
    "\n",
    "### R Studio, Bioconductor y paquetes utilizados en el análisis computacional\n",
    "#### RStudio\n",
    "- RStudio Team (2015). RStudio: Integrated Development for R. RStudio, Inc., Boston, MA URL http://www.rstudio.com/.\n",
    "    - **igraph** Csardi G, Nepusz T: The igraph software package for complex network research, InterJournal, Complex Systems 1695. 2006. http://igraph.org\n",
    "    \n",
    "Los paquetes de R citados anteriormente fueron descargados de Bioconductor.\n",
    "\n",
    "#### Bioconductor\n",
    "\n",
    "Orchestrating high-throughput genomic analysis with Bioconductor. W. Huber, V.J. Carey, R. Gentleman, ..., M. Morgan Nature Methods, 2015:12, 115. https://www.bioconductor.org/\n",
    "\n",
    "\n",
    "\n",
    "### Construcción de la red con Cytoscape\n",
    "Shannon P, Markiel A, Ozier O, Baliga NS, Wang JT, Ramage D, Amin N, Schwikowski B, Ideker T. Cytoscape: a software environment for integrated models of biomolecular interaction networks\n",
    "Genome Research 2003 Nov; 13(11):2498-504\n",
    "\n",
    "### Repositorio de GitHub\n",
    "Esta tarea ha sido construida a través del repositorio [REDES](https://github.com/saracart/REDES.git), bajo una licencia GNU GENERAL PUBLIC LICENSE (Version 3, 29 June 2007).\n",
    "\n",
    "\n",
    "### Material docente\n",
    "- **Diapositivas de clase**\n",
    "    - Redes Transcripcionales (Francisco J. Romero-Campero): [Presentación](redes_transcripcionales.pdf)\n",
    "- **Vídeos de Youtube**\n",
    "    - [Visualización de Redes y atributos topológicos usando Cytoscape](https://www.youtube.com/watch?v=Q-1EpHE_4Pc&t=144s)\n",
    "    \n",
    "### Jupyter notebook\n",
    "Thomas Kluyver, Benjamin Ragan-Kelley, Fernando Pérez, Brian Granger, Matthias Bussonnier, Jonathan Frederic, Kyle Kelley, Jessica Hamrick, Jason Grout, Sylvain Corlay, Paul Ivanov, Damián Avila, Safia Abdalla, Carol Willing, Jupyter Development Team. Jupyter Notebooks – a publishing format for reproducible computational workflows. "
   ]
  }
 ],
 "metadata": {
  "kernelspec": {
   "display_name": "R",
   "language": "R",
   "name": "ir"
  },
  "language_info": {
   "codemirror_mode": "r",
   "file_extension": ".r",
   "mimetype": "text/x-r-source",
   "name": "R",
   "pygments_lexer": "r",
   "version": "3.6.1"
  }
 },
 "nbformat": 4,
 "nbformat_minor": 2
}
