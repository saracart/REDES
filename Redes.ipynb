{
 "cells": [
  {
   "cell_type": "markdown",
   "metadata": {},
   "source": [
    "# REDES TRANSCRIPCIONALES"
   ]
  },
  {
   "cell_type": "markdown",
   "metadata": {},
   "source": [
    "# ÍNDICE\n",
    "\n",
    "1. [INTRODUCCIÓN](#introduccion)\n",
    "\n",
    "2. [OBJETIVOS](#objetivos)\n",
    "\n",
    "3. [ANÁLISIS DE Chip-Seq](#chip)\n",
    "    \n",
    "4. [CONSTRUCCIÓN DE LA RED](#red)\n",
    "\n",
    "5. [CONCLUSIONES](#conclusiones)\n",
    "\n",
    "6. [REFERENCIAS](#referencias)"
   ]
  },
  {
   "cell_type": "markdown",
   "metadata": {},
   "source": [
    "<a id=\"introduccion\"></a>"
   ]
  },
  {
   "cell_type": "markdown",
   "metadata": {},
   "source": [
    "## 1. INTRODUCCIÓN "
   ]
  },
  {
   "cell_type": "markdown",
   "metadata": {},
   "source": [
    "Las redes de coexpresión génica incluyen un conjunto de genes que se expresan orquestados conjuntamente. No obstante, el hecho de que estos genes estén coexpresados no implica que estén corregulados.\n",
    "Para realizar el estudio de __redes de corregulacón génica__ se utilizan los datos obtenidos de análisis de ChIP-Seq.\n",
    "\n",
    "De este modo, a partir del análisis para diversos factores de transcripción se obtienen sendas listas de genes dianas para cada uno de los factores de transcripción analizados. A partir de estos genes diana, se puede construir la red de corregulación.\n",
    "Cabe mencionar que a diferencia de las redes de coexpresión, las redes de corregulación son __redes dirigidas__. En este caso, se tiene un factor de transcripción que se une al promotor de un gen y hace que se exprese. Si, además, el gen es codificante de una enzima que participa en una ruta metabólica, se estaría trabajando a su vez con una red metabólica y sería interesante integrar ambas redes."
   ]
  },
  {
   "cell_type": "markdown",
   "metadata": {},
   "source": [
    "<a id=\"objetivos\"></a>"
   ]
  },
  {
   "cell_type": "markdown",
   "metadata": {},
   "source": [
    "## 2. OBJETIVOS"
   ]
  },
  {
   "cell_type": "markdown",
   "metadata": {},
   "source": [
    "El objetivo de esta tarea es la obtención de la red de corregulación para los genes dianas que se obtienen de realizar análisis de ChIP-Seq para 10 factores de transcripción de _Arabidopsis thaliana._"
   ]
  },
  {
   "cell_type": "markdown",
   "metadata": {},
   "source": [
    "<a id=\"chip\"></a>"
   ]
  },
  {
   "cell_type": "markdown",
   "metadata": {},
   "source": [
    "## 3. ANÁLISIS DE ChIP-Seq"
   ]
  },
  {
   "cell_type": "markdown",
   "metadata": {},
   "source": [
    "Para poder crear la red de transcripción, se realiza un análisis de ChIP-Seq de 10 factores de transcripción. Los diferentes factores y los genes diana de cada uno de ellos, se enumeran a continuación."
   ]
  },
  {
   "cell_type": "markdown",
   "metadata": {},
   "source": [
    "- __LHY__\n",
    "Es un factor de transcripción relacionado con el ritmo circadiano. La lista de genes diana de este factor es la siguiente: [Genes diana LHY](LHY.txt)"
   ]
  },
  {
   "cell_type": "markdown",
   "metadata": {},
   "source": [
    "- __APRR9__\n",
    "Es un factor de transcripción relacionado con el ritmo circadiano. La lista de genes diana de este factor es la siguiente: [Genes diana APRR9](APRR9.txt)"
   ]
  },
  {
   "cell_type": "markdown",
   "metadata": {},
   "source": [
    "- __ATMYB3R3 (DOMINIO PROTEICO MYB)__\n",
    "Es un factor de transcripción relacionado con la división celular. La lista de genes diana de este factor es la siguiente: [Genes diana ATMYB3R3](ATMYB.txt)"
   ]
  },
  {
   "cell_type": "markdown",
   "metadata": {},
   "source": [
    "- __PROTEÍNA NUCLEAR 1 ASOCIADA A EIN2 (ENAP1)__\n",
    "Es un factor de transcripción relacionado con la transcripción de proteínas de virulencia. La lista de genes diana de este factor es la siguiente: [Genes diana ENAP1](ENAP1.txt)"
   ]
  },
  {
   "cell_type": "markdown",
   "metadata": {},
   "source": [
    "- __HISTONA ACETILTRANSFERASA (HAF2)__\n",
    "Relacionado con la integración de la luz. La lista de genes dianas de este factor es la siguiente: [Genes diana HAF2](HAF2.txt)"
   ]
  },
  {
   "cell_type": "markdown",
   "metadata": {},
   "source": [
    "- __PROTEÍNA 3 CON DOMINIO DEK (DEK3)__\n",
    "Este factor de transcripción codifica para proteína de modulación de la cromatina. Los genes diana de este factor son los siguientes: [Genes diana DEK3](DEK3.txt)"
   ]
  },
  {
   "cell_type": "markdown",
   "metadata": {},
   "source": [
    "- __AP2__\n",
    "Este factor de transcripción está relacionado con la floraicón. La lista de genes diana es la siguiente: [Genes diana AP2](AP2.txt)"
   ]
  },
  {
   "cell_type": "markdown",
   "metadata": {},
   "source": [
    "- __PRR5__\n",
    "Este factor de transcripción está relacionado con el reloj circadiano. La lista de genes diana es la siguiente: [Genes diana PRR5](PRR5.txt)"
   ]
  },
  {
   "cell_type": "markdown",
   "metadata": {},
   "source": [
    "- __AGL8__\n",
    "Este factor de transcripción está relacionado con el desarrollo de la planta. La lista de genes diana es la siguiente: [Genes diana AGL8](AGL8.txt)"
   ]
  },
  {
   "cell_type": "markdown",
   "metadata": {},
   "source": [
    "- __LFY__\n",
    "Este factor de transcripción está relacionado con el desarrollo de la planta. La lista de genes diana es la siguiente: [Genes diana FLY](FLY.txt)"
   ]
  },
  {
   "cell_type": "markdown",
   "metadata": {},
   "source": [
    "<a id=\"red\"></a>"
   ]
  },
  {
   "cell_type": "markdown",
   "metadata": {},
   "source": [
    "## 4. CONSTRUCCIÓN DE LA RED"
   ]
  },
  {
   "cell_type": "markdown",
   "metadata": {},
   "source": [
    "A partir de los factores de transcripción descritos en el apartado anterior, y con las 10 listas de genes activados, se procede a construir la red de corregulación génica."
   ]
  },
  {
   "cell_type": "markdown",
   "metadata": {},
   "source": [
    "<a id=\"conclusiones\"></a>"
   ]
  },
  {
   "cell_type": "markdown",
   "metadata": {},
   "source": [
    "## 5.  CONCLUSIONES"
   ]
  },
  {
   "cell_type": "markdown",
   "metadata": {},
   "source": [
    "<a id=\"referencias\"></a>"
   ]
  },
  {
   "cell_type": "markdown",
   "metadata": {},
   "source": [
    "## 6. REFERENCIAS"
   ]
  },
  {
   "cell_type": "markdown",
   "metadata": {},
   "source": [
    "### Ártículos de los factores de transcripción\n",
    "\n",
    "\n",
    "### Datos descargados de la subase de datos de NCBI, GEO\n",
    "Los datos analizados en este trabajo fueron depositados en la base de datos de NCBI, Gen Expression Omnibus (McEwan, Deborah L et al., 2016) y se puede acceder a ellos a través de los respectivos números de acceso: GSE79554 o en el siguiente enlace\n",
    "https://www.ncbi.nlm.nih.gov/geo/query/acc.cgi?acc=GSE79554\n",
    "\n",
    "### R Studio, Bioconductor y paquetes utilizados en el análisis computacional\n",
    "#### RStudio\n",
    "- RStudio Team (2015). RStudio: Integrated Development for R. RStudio, Inc., Boston, MA URL http://www.rstudio.com/.\n",
    "    - **igraph** Csardi G, Nepusz T: The igraph software package for complex network research, InterJournal, Complex Systems 1695. 2006. http://igraph.org\n",
    "    \n",
    "Los paquetes de R citados anteriormente fueron descargados de Bioconductor.\n",
    "\n",
    "#### Bioconductor\n",
    "\n",
    "Orchestrating high-throughput genomic analysis with Bioconductor. W. Huber, V.J. Carey, R. Gentleman, ..., M. Morgan Nature Methods, 2015:12, 115. https://www.bioconductor.org/\n",
    "\n",
    "\n",
    "\n",
    "### Construcción de la red con Cytoscape\n",
    "Shannon P, Markiel A, Ozier O, Baliga NS, Wang JT, Ramage D, Amin N, Schwikowski B, Ideker T. Cytoscape: a software environment for integrated models of biomolecular interaction networks\n",
    "Genome Research 2003 Nov; 13(11):2498-504\n",
    "\n",
    "### Repositorio de GitHub\n",
    "Esta tarea ha sido construida a través del repositorio [REDES](https://github.com/saracart/REDES.git), bajo una licencia GNU GENERAL PUBLIC LICENSE (Version 3, 29 June 2007).\n",
    "\n",
    "\n",
    "### Material docente\n",
    "- **Diapositivas de clase**\n",
    "    - Redes Transcripcionales (Francisco J. Romero-Campero): [Presentación](redes_transcripcionales.pdf)\n",
    "- **Vídeos de Youtube**\n",
    "    - [Visualización de Redes y atributos topológicos usando Cytoscape](https://www.youtube.com/watch?v=Q-1EpHE_4Pc&t=144s)\n",
    "    \n",
    "### Jupyter notebook\n",
    "Thomas Kluyver, Benjamin Ragan-Kelley, Fernando Pérez, Brian Granger, Matthias Bussonnier, Jonathan Frederic, Kyle Kelley, Jessica Hamrick, Jason Grout, Sylvain Corlay, Paul Ivanov, Damián Avila, Safia Abdalla, Carol Willing, Jupyter Development Team. Jupyter Notebooks – a publishing format for reproducible computational workflows. "
   ]
  }
 ],
 "metadata": {
  "kernelspec": {
   "display_name": "R",
   "language": "R",
   "name": "ir"
  },
  "language_info": {
   "codemirror_mode": "r",
   "file_extension": ".r",
   "mimetype": "text/x-r-source",
   "name": "R",
   "pygments_lexer": "r",
   "version": "3.6.2"
  }
 },
 "nbformat": 4,
 "nbformat_minor": 2
}
