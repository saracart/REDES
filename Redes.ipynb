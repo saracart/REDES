{
 "cells": [
  {
   "cell_type": "markdown",
   "metadata": {},
   "source": [
    "# REDES TRANSCRIPCIONALES"
   ]
  },
  {
   "cell_type": "markdown",
   "metadata": {},
   "source": [
    "# ÍNDICE\n",
    "\n",
    "1. [INTRODUCCIÓN](#introduccion)\n",
    "    - 1.1. [OBJETIVOS](#objetivos)\n",
    "2. [ANÁLISIS DE CALIDAD](#calidad)\n",
    "3. [PROCESAMIENTO DE LE MUESTRAS Y DETERMINACIÓN DE LAS DIANAS](#procesamiento)\n",
    "    - 3.1. [ANÁLISIS CHIP SEQ](#chipeseq)\n",
    "    - 3.2. [ANÁLISIS PICOS](#determinacion)\n",
    "        - 3.2.1. [ANÁLISIS EN IGV DE LOS GENES DE INTERÉS PARA LAS DOS RÉPLICAS](#igv1)\n",
    "        - 3.2.2. [ANÁLISIS EN IGV DE LOS PICOS DONDE SE UNE EL FT](#igv2)\n",
    "    - 3.3. [MOTIVOS GÉNICOS](#motivos)\n",
    "    - 3.4. [EXPRESIÓN DIFERENCIAL DE GENES](#expresion_diferencial)\n",
    "4. [CONCLUSIONES](#conclusiones)\n",
    "5. [REFERENCIAS](#referencias)"
   ]
  },
  {
   "cell_type": "markdown",
   "metadata": {},
   "source": [
    "## 1. INTRODUCCIÓN "
   ]
  },
  {
   "cell_type": "markdown",
   "metadata": {},
   "source": []
  },
  {
   "cell_type": "markdown",
   "metadata": {},
   "source": [
    "### 1.2. OBJETIVOS"
   ]
  },
  {
   "cell_type": "markdown",
   "metadata": {},
   "source": []
  },
  {
   "cell_type": "markdown",
   "metadata": {},
   "source": []
  }
 ],
 "metadata": {
  "kernelspec": {
   "display_name": "R",
   "language": "R",
   "name": "ir"
  },
  "language_info": {
   "codemirror_mode": "r",
   "file_extension": ".r",
   "mimetype": "text/x-r-source",
   "name": "R",
   "pygments_lexer": "r",
   "version": "3.6.1"
  }
 },
 "nbformat": 4,
 "nbformat_minor": 2
}
