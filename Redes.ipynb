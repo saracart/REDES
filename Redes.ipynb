{
 "cells": [
  {
   "cell_type": "markdown",
   "metadata": {},
   "source": [
    "# REDES TRANSCRIPCIONALES"
   ]
  },
  {
   "cell_type": "markdown",
   "metadata": {},
   "source": [
    "# ÍNDICE\n",
    "\n",
    "1. [INTRODUCCIÓN](#introduccion)\n",
    "2. [OBJETIVOS](#objetivos)\n",
    "3. [ANÁLISIS DE Chip-Seq](#chip)\n",
    "4. [CONSTRUCCIÓN DE LA RED](#red)\n",
    "    "
   ]
  },
  {
   "cell_type": "markdown",
   "metadata": {},
   "source": [
    "<a id=\"introduccion\"></a>"
   ]
  },
  {
   "cell_type": "markdown",
   "metadata": {},
   "source": [
    "## 1. INTRODUCCIÓN "
   ]
  },
  {
   "cell_type": "markdown",
   "metadata": {},
   "source": [
    "Las redes de coexpresión génica incluyen un conjunto de genes que se expresan orquestados conjuntamente. No obstante, el hecho de que estos genes estén coexpresados no implica que estén corregulados.\n",
    "Para realizar el estudio de __redes de corregulacón génica__ se utilizan los datos obtenidos de análisis de ChIP-Seq.\n",
    "\n",
    "De este modo, a partir del análisis para diversos factores de transcripción se obtienen sendas listas de genes dianas para cada uno de los factores de transcripción analizados. A partir de estos genes diana, se puede construir la red de corregulación.\n",
    "Cabe mencionar que a diferencia de las redes de coexpresión, las redes de corregulación son __redes dirigidas__. En este caso, se tiene un factor de transcripción que se une al promotor de un gen y hace que se exprese. Si, además, el gen es codificante de una enzima que participa en una ruta metabólica, se estaría trabajando a su vez con una red metabólica y sería interesante integrar ambas redes."
   ]
  },
  {
   "cell_type": "markdown",
   "metadata": {},
   "source": [
    "<a id=\"objetivos\"></a>"
   ]
  },
  {
   "cell_type": "markdown",
   "metadata": {},
   "source": [
    "## 2. OBJETIVOS"
   ]
  },
  {
   "cell_type": "markdown",
   "metadata": {},
   "source": [
    "El objetivo de esta tarea es la obtención de la red de corregulación para los genes dianas que se obtienen de realizar análisis de ChIP-Seq para 10 factores de transcripción de _Arabidopsis thaliana._"
   ]
  },
  {
   "cell_type": "markdown",
   "metadata": {},
   "source": [
    "<a id=\"chip\"></a>"
   ]
  },
  {
   "cell_type": "markdown",
   "metadata": {},
   "source": [
    "## 3. ANÁLISIS DE ChIP-Seq"
   ]
  },
  {
   "cell_type": "markdown",
   "metadata": {},
   "source": [
    "<a id=\"red\"></a>"
   ]
  },
  {
   "cell_type": "markdown",
   "metadata": {},
   "source": [
    "## 4. CONSTRUCCIÓN DE LA RED"
   ]
  }
 ],
 "metadata": {
  "kernelspec": {
   "display_name": "R",
   "language": "R",
   "name": "ir"
  },
  "language_info": {
   "codemirror_mode": "r",
   "file_extension": ".r",
   "mimetype": "text/x-r-source",
   "name": "R",
   "pygments_lexer": "r",
   "version": "3.6.2"
  }
 },
 "nbformat": 4,
 "nbformat_minor": 2
}
